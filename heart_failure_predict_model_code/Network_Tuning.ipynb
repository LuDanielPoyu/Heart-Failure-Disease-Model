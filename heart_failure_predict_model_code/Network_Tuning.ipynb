{
  "nbformat": 4,
  "nbformat_minor": 0,
  "metadata": {
    "colab": {
      "provenance": []
    },
    "kernelspec": {
      "name": "python3",
      "display_name": "Python 3"
    },
    "language_info": {
      "name": "python"
    }
  },
  "cells": [
    {
      "cell_type": "code",
      "execution_count": 32,
      "metadata": {
        "id": "zi_I-bQ7jxi_"
      },
      "outputs": [],
      "source": [
        "import pandas as pd\n",
        "from sklearn.model_selection import train_test_split\n",
        "from sklearn.preprocessing import LabelEncoder, StandardScaler\n",
        "import torch\n",
        "from torch.utils.data import DataLoader, TensorDataset\n",
        "import torch.nn as nn\n",
        "import torch.nn.init as init\n",
        "import torch.optim as optim\n",
        "import torch.nn.functional as F\n",
        "import numpy as np\n",
        "from torch.optim.lr_scheduler import ExponentialLR"
      ]
    },
    {
      "cell_type": "code",
      "source": [
        "# data = pd.read_csv(\"heart_failure_clinical_records_dataset.csv\")\n",
        "data = pd.read_csv(\"heart_failure_clinical_records_dataset.csv\")\n",
        "\n",
        "# Separate features and target variable\n",
        "X = data.drop(columns=[\"DEATH_EVENT\"])\n",
        "y = data[\"DEATH_EVENT\"]\n",
        "\n",
        "# Split the dataset into training and testing sets\n",
        "X_train, X_test, y_train, y_test = train_test_split(X, y, test_size=0.2, random_state=42)\n",
        "\n",
        "# Standardize features\n",
        "scaler = StandardScaler()\n",
        "X_train_scaled = scaler.fit_transform(X_train)\n",
        "X_test_scaled = scaler.transform(X_test)"
      ],
      "metadata": {
        "id": "K7mnLhhKljOD"
      },
      "execution_count": 33,
      "outputs": []
    },
    {
      "cell_type": "markdown",
      "source": [
        "## Acceptable Model of weight_tuning_LG_UA :"
      ],
      "metadata": {
        "id": "c_v072Aomgyb"
      }
    },
    {
      "cell_type": "code",
      "source": [
        "X_train_tensor = torch.tensor(X_train_scaled, dtype=torch.float32)\n",
        "y_train_tensor = torch.tensor(y_train.values, dtype=torch.float32)\n",
        "X_test_tensor = torch.tensor(X_test_scaled, dtype=torch.float32)\n",
        "y_test_tensor = torch.tensor(y_test.values, dtype=torch.float32)\n",
        "\n",
        "# Create datasets and data loaders\n",
        "batch_size = 64\n",
        "train_dataset = TensorDataset(X_train_tensor, y_train_tensor)\n",
        "train_loader = DataLoader(train_dataset, batch_size=batch_size, shuffle=True)\n",
        "test_dataset = TensorDataset(X_test_tensor, y_test_tensor)\n",
        "test_loader = DataLoader(test_dataset, batch_size=batch_size, shuffle=False)\n",
        "\n",
        "class NeuralNetwork(nn.Module):\n",
        "    def __init__(self, input_size, hidden_size):\n",
        "        super(NeuralNetwork, self).__init__()\n",
        "        self.fc1 = nn.Linear(input_size, hidden_size)\n",
        "        init.xavier_uniform_(self.fc1.weight)  # Xavier initialization for weights of fc1\n",
        "        self.bn = nn.BatchNorm1d(hidden_size)  # Batch normalization layer\n",
        "        self.fc2 = nn.Linear(hidden_size, 1)\n",
        "        init.xavier_uniform_(self.fc2.weight)\n",
        "\n",
        "    def forward(self, x):\n",
        "        x = self.fc1(x)\n",
        "        x = self.bn(x)  # Applying batch normalization\n",
        "        x = F.relu(x)  # Using ReLU activation function\n",
        "        x = self.fc2(x)\n",
        "        return x\n",
        "\n",
        "def calculate_loss(model, criterion, inputs, labels):\n",
        "    outputs = model(inputs).squeeze()\n",
        "    loss = criterion(outputs, labels.float())\n",
        "    return loss\n",
        "\n",
        "input_size = X_train_tensor.shape[1]\n",
        "hidden_size = 8\n",
        "model2 = NeuralNetwork(input_size, hidden_size)\n",
        "\n",
        "criterion = nn.BCEWithLogitsLoss()\n",
        "optimizer = optim.Adam(model2.parameters(), lr=0.01)\n",
        "scheduler = ExponentialLR(optimizer, gamma=0.95)\n",
        "\n",
        "# Define the error value criterion\n",
        "error_criterion = 0.3\n",
        "n = 0.01\n",
        "\n",
        "training_stopped = False\n",
        "\n",
        "while not training_stopped:\n",
        "    for inputs, labels in train_loader:\n",
        "        optimizer.zero_grad()\n",
        "        original_loss = calculate_loss(model2, criterion, inputs, labels)\n",
        "\n",
        "        print(\"Original Loss:\", original_loss.item())\n",
        "\n",
        "        # Check if the loss is smaller than the error value criterion\n",
        "        if original_loss.item() < error_criterion:\n",
        "            print(\"An acceptable 2LNN\")\n",
        "            training_stopped = True\n",
        "            break\n",
        "\n",
        "        original_loss.backward()\n",
        "        optimizer.step()\n",
        "\n",
        "        with torch.no_grad():\n",
        "            for param in model2.parameters():\n",
        "                if param.requires_grad:\n",
        "                    original_param = param.clone()\n",
        "                    param -= n * param.grad\n",
        "\n",
        "            new_loss = calculate_loss(model2, criterion, inputs, labels)\n",
        "\n",
        "            if new_loss.item() < original_loss.item():\n",
        "                n *= 1.2\n",
        "                print(\"New weight accepted, updated learning rate: \", n)\n",
        "                break\n",
        "            else:\n",
        "                if n > 0.001:\n",
        "                    n *= 0.7\n",
        "                    print(\"New weight rejected, updated learning rate: \", n)\n",
        "                else:\n",
        "                    print(\"An unacceptable 2LNN\")\n",
        "                    training_stopped = True\n",
        "                    break\n",
        "\n",
        "    if original_loss.item() < error_criterion:\n",
        "        break\n",
        "    if training_stopped:\n",
        "        break"
      ],
      "metadata": {
        "colab": {
          "base_uri": "https://localhost:8080/"
        },
        "id": "opQZr28CmdRK",
        "outputId": "79398245-70b9-4fc4-f731-46ef9cea174a"
      },
      "execution_count": 37,
      "outputs": [
        {
          "output_type": "stream",
          "name": "stdout",
          "text": [
            "Original Loss: 0.7928974628448486\n",
            "New weight accepted, updated learning rate:  0.012\n",
            "Original Loss: 0.7061982154846191\n",
            "New weight accepted, updated learning rate:  0.0144\n",
            "Original Loss: 0.7082386612892151\n",
            "New weight accepted, updated learning rate:  0.01728\n",
            "Original Loss: 0.6955766677856445\n",
            "New weight accepted, updated learning rate:  0.020736\n",
            "Original Loss: 0.5828512907028198\n",
            "New weight accepted, updated learning rate:  0.0248832\n",
            "Original Loss: 0.6017258763313293\n",
            "New weight accepted, updated learning rate:  0.02985984\n",
            "Original Loss: 0.6291185021400452\n",
            "New weight accepted, updated learning rate:  0.035831808\n",
            "Original Loss: 0.623953640460968\n",
            "New weight accepted, updated learning rate:  0.0429981696\n",
            "Original Loss: 0.5467280149459839\n",
            "New weight accepted, updated learning rate:  0.05159780351999999\n",
            "Original Loss: 0.5824074149131775\n",
            "New weight accepted, updated learning rate:  0.06191736422399999\n",
            "Original Loss: 0.5541133284568787\n",
            "New weight accepted, updated learning rate:  0.07430083706879999\n",
            "Original Loss: 0.5409111976623535\n",
            "New weight accepted, updated learning rate:  0.08916100448255998\n",
            "Original Loss: 0.5502780675888062\n",
            "New weight accepted, updated learning rate:  0.10699320537907198\n",
            "Original Loss: 0.4609845280647278\n",
            "New weight accepted, updated learning rate:  0.12839184645488635\n",
            "Original Loss: 0.43956607580184937\n",
            "New weight accepted, updated learning rate:  0.15407021574586363\n",
            "Original Loss: 0.5108315348625183\n",
            "New weight accepted, updated learning rate:  0.18488425889503635\n",
            "Original Loss: 0.4752287268638611\n",
            "New weight accepted, updated learning rate:  0.2218611106740436\n",
            "Original Loss: 0.41571420431137085\n",
            "New weight accepted, updated learning rate:  0.2662333328088523\n",
            "Original Loss: 0.42792809009552\n",
            "New weight accepted, updated learning rate:  0.31947999937062277\n",
            "Original Loss: 0.4589192867279053\n",
            "New weight accepted, updated learning rate:  0.3833759992447473\n",
            "Original Loss: 0.44062548875808716\n",
            "New weight accepted, updated learning rate:  0.46005119909369674\n",
            "Original Loss: 0.444868266582489\n",
            "New weight accepted, updated learning rate:  0.5520614389124361\n",
            "Original Loss: 0.4321443736553192\n",
            "New weight accepted, updated learning rate:  0.6624737266949233\n",
            "Original Loss: 0.34510427713394165\n",
            "New weight accepted, updated learning rate:  0.794968472033908\n",
            "Original Loss: 0.40116146206855774\n",
            "New weight accepted, updated learning rate:  0.9539621664406895\n",
            "Original Loss: 0.4445241689682007\n",
            "New weight accepted, updated learning rate:  1.1447545997288273\n",
            "Original Loss: 0.3227512836456299\n",
            "New weight accepted, updated learning rate:  1.3737055196745926\n",
            "Original Loss: 0.31447649002075195\n",
            "New weight accepted, updated learning rate:  1.6484466236095112\n",
            "Original Loss: 0.3279626965522766\n",
            "New weight accepted, updated learning rate:  1.9781359483314134\n",
            "Original Loss: 0.2776622772216797\n",
            "An acceptable 2LNN\n"
          ]
        }
      ]
    },
    {
      "cell_type": "code",
      "source": [
        "model_path = \"accepable_model_LG_UA.pth\"\n",
        "\n",
        "# Save the final model's parameters\n",
        "torch.save(model2.state_dict(), model_path)\n",
        "print(f\"Model parameters saved to {model_path}\")\n",
        "\n",
        "# Load the saved model parameters to continue training\n",
        "loaded_model2 = NeuralNetwork(input_size, hidden_size)\n",
        "loaded_model2.load_state_dict(torch.load(model_path))\n",
        "print(\"Model parameters loaded from\", model_path)"
      ],
      "metadata": {
        "colab": {
          "base_uri": "https://localhost:8080/"
        },
        "id": "GDPevemollFl",
        "outputId": "c5b47768-f54a-451b-a39f-ee30e4ae01eb"
      },
      "execution_count": 38,
      "outputs": [
        {
          "output_type": "stream",
          "name": "stdout",
          "text": [
            "Model parameters saved to accepable_model_LG_UA.pth\n",
            "Model parameters loaded from accepable_model_LG_UA.pth\n"
          ]
        }
      ]
    },
    {
      "cell_type": "markdown",
      "source": [
        "## Network Tuning: Regularizing_LG_UA + examine all for potentially irrelevant node"
      ],
      "metadata": {
        "id": "1mcs0XO-lqfq"
      }
    },
    {
      "cell_type": "code",
      "source": [
        "# Define the error value criterion\n",
        "error_criterion = 0.3\n",
        "n = 0.01\n",
        "l2_lambda = 0.01\n",
        "training_stopped = False\n",
        "\n",
        "# Regularization and UA process\n",
        "while not training_stopped:\n",
        "    for inputs, labels in train_loader:\n",
        "        optimizer.zero_grad()\n",
        "        outputs = loaded_model2(inputs).squeeze()\n",
        "        original_loss = criterion(outputs, labels.float())\n",
        "\n",
        "        # Calculate L2 regularization term\n",
        "        l2_reg = torch.tensor(0., requires_grad=True)\n",
        "        for param in loaded_model2.parameters():\n",
        "            l2_reg = l2_reg + torch.norm(param, 2)\n",
        "\n",
        "        # Add L2 regularization to the loss function\n",
        "        loss_with_l2 = original_loss + l2_lambda * l2_reg\n",
        "\n",
        "        print(\"Original Loss with L2 regularization:\", loss_with_l2.item())\n",
        "\n",
        "        loss_with_l2.backward()\n",
        "        optimizer.step()\n",
        "\n",
        "        # Reset l2_reg to zero for the next iteration\n",
        "        l2_reg = torch.tensor(0., requires_grad=True)\n",
        "\n",
        "        with torch.no_grad():\n",
        "            for param in loaded_model2.parameters():\n",
        "                if param.requires_grad:\n",
        "                    param -= n * param.grad\n",
        "\n",
        "            new_loss = criterion(loaded_model2(inputs).squeeze(), labels.float())\n",
        "\n",
        "            if new_loss.item() < loss_with_l2.item():\n",
        "                # Check if the loss is smaller than the error value criterion\n",
        "                if loss_with_l2.item() < error_criterion:\n",
        "                    n *= 1.2\n",
        "                    print(\"New weight accepted, updated learning rate: \", n)\n",
        "                    break\n",
        "                else:\n",
        "                    print(\"An unacceptable 2LNN\")\n",
        "                    training_stopped = True\n",
        "                    loaded_model2.load_state_dict(torch.load(model_path))\n",
        "                    print(\"Restored model parameters from\", model_path)\n",
        "                    break\n",
        "            else:\n",
        "                if n > 0.001:\n",
        "                    n *= 0.7\n",
        "                    print(\"New weight rejected, updated learning rate: \", n)\n",
        "                else:\n",
        "                    print(\"An unacceptable 2LNN\")\n",
        "                    training_stopped = True\n",
        "                    loaded_model2.load_state_dict(torch.load(model_path))\n",
        "                    print(\"Restored model parameters from\", model_path)\n",
        "                    break\n",
        "\n",
        "    if loss_with_l2.item() < error_criterion:\n",
        "        break\n",
        "    if training_stopped:\n",
        "        break\n",
        "\n",
        "# Function to evaluate the model\n",
        "def evaluate_model(model, loader):\n",
        "    model.eval()\n",
        "    total_loss = 0.0\n",
        "    with torch.no_grad():\n",
        "        for inputs, labels in loader:\n",
        "            outputs = model(inputs).squeeze()\n",
        "            loss = criterion(outputs, labels.float())\n",
        "            total_loss += loss.item()\n",
        "    return total_loss / len(loader)\n",
        "\n",
        "# Function to fine-tune the model for a specified number of epochs\n",
        "def fine_tune_model(model, train_loader, epochs=50):\n",
        "    model.train()\n",
        "    for epoch in range(epochs):\n",
        "        for inputs, labels in train_loader:\n",
        "            optimizer.zero_grad()\n",
        "            outputs = model(inputs).squeeze()\n",
        "            loss = criterion(outputs, labels.float())\n",
        "            loss.backward()\n",
        "            optimizer.step()\n",
        "        scheduler.step()\n",
        "\n",
        "\n",
        "# Load the regularized model into model1 for pruning process\n",
        "final_model = NeuralNetwork(input_size, hidden_size)\n",
        "final_model.load_state_dict(loaded_model2.state_dict())\n",
        "\n",
        "# Check initial performance\n",
        "initial_loss = evaluate_model(final_model, test_loader)\n",
        "print(f\"Initial Test Loss: {initial_loss:.4f}\")\n",
        "\n",
        "# Pruning process\n",
        "k = 0\n",
        "p = hidden_size\n",
        "\n",
        "while k < p:\n",
        "    # Save the current state of the model's fc1 and fc2 layers\n",
        "    original_fc1_weight = final_model.fc1.weight.clone()\n",
        "    original_fc1_bias = final_model.fc1.bias.clone()\n",
        "    original_fc2_weight = final_model.fc2.weight.clone()\n",
        "\n",
        "    # Zero out the weights and biases of the k-th hidden node\n",
        "    final_model.fc1.weight.data[k, :] = 0\n",
        "    final_model.fc1.bias.data[k] = 0\n",
        "    final_model.fc2.weight.data[:, k] = 0\n",
        "\n",
        "    # Fine-tune the model after removing the node\n",
        "    fine_tune_model(final_model, train_loader, epochs=50)\n",
        "\n",
        "    # Evaluate the modified model\n",
        "    new_loss = evaluate_model(final_model, test_loader)\n",
        "    print(f\"New Test Loss after masking node {k+1}: {new_loss:.4f}\")\n",
        "\n",
        "    if new_loss < 0.1:\n",
        "        # Node is irrelevant, continue with reduced model\n",
        "        p -= 1\n",
        "        # Remove the k-th node by keeping the zeroed weights\n",
        "        # Shift the remaining weights and biases in fc1 and fc2\n",
        "        with torch.no_grad():\n",
        "            final_model.fc1.weight = nn.Parameter(torch.cat((final_model.fc1.weight[:k], final_model.fc1.weight[k+1:])))\n",
        "            final_model.fc1.bias = nn.Parameter(torch.cat((final_model.fc1.bias[:k], final_model.fc1.bias[k+1:])))\n",
        "            final_model.fc2.weight = nn.Parameter(torch.cat((final_model.fc2.weight[:, :k],final_model.fc2.weight[:, k+1:]), dim=1))\n",
        "\n",
        "            # If you have batch norm layers, adjust their running statistics here:\n",
        "            # Assuming you have batch norm layers named `bn1` and `bn2`\n",
        "            # Adjust running_mean and running_var of batch norm layers\n",
        "            if hasattr(final_model, 'bn1'):\n",
        "                final_model.bn1.running_mean = final_model.bn1.running_mean[:p]\n",
        "                final_model.bn1.running_var = final_model.bn1.running_var[:p]\n",
        "            if hasattr(final_model, 'bn2'):\n",
        "                final_model.bn2.running_mean = final_model.bn2.running_mean[:p]\n",
        "                final_model.bn2.running_var = final_model.bn2.running_var[:p]\n",
        "\n",
        "    else:\n",
        "        # Node is relevant, restore original weights and biases\n",
        "        final_model.fc1.weight.data = original_fc1_weight\n",
        "        final_model.fc1.bias.data = original_fc1_bias\n",
        "        final_model.fc2.weight.data = original_fc2_weight\n",
        "        k += 1\n",
        "\n"
      ],
      "metadata": {
        "colab": {
          "base_uri": "https://localhost:8080/"
        },
        "id": "5Q5EeyfPs0Bv",
        "outputId": "f9718343-5e0d-40ac-d752-57ec6aea6107"
      },
      "execution_count": 43,
      "outputs": [
        {
          "output_type": "stream",
          "name": "stdout",
          "text": [
            "Original Loss with L2 regularization: 0.40716955065727234\n",
            "An unacceptable 2LNN\n",
            "Restored model parameters from accepable_model_LG_UA.pth\n",
            "Initial Test Loss: 0.5731\n",
            "New Test Loss after masking node 1: 0.5678\n",
            "New Test Loss after masking node 2: 0.5620\n",
            "New Test Loss after masking node 3: 0.6290\n",
            "New Test Loss after masking node 4: 0.5292\n",
            "New Test Loss after masking node 5: 0.6174\n",
            "New Test Loss after masking node 6: 0.5541\n",
            "New Test Loss after masking node 7: 0.5080\n",
            "New Test Loss after masking node 8: 0.5355\n"
          ]
        }
      ]
    },
    {
      "cell_type": "code",
      "source": [
        "# Drop the 1st, 2nd, and 7th nodes (indices 0, 1, and 6)\n",
        "drop_nodes = [0, 1, 6]\n",
        "\n",
        "with torch.no_grad():\n",
        "    final_model.fc1.weight.data = torch.cat([final_model.fc1.weight.data[:drop_nodes[0]], final_model.fc1.weight.data[drop_nodes[0]+1:]])\n",
        "    final_model.fc1.bias.data = torch.cat([final_model.fc1.bias.data[:drop_nodes[0]], final_model.fc1.bias.data[drop_nodes[0]+1:]])\n",
        "    final_model.fc2.weight.data = torch.cat([final_model.fc2.weight.data[:, :drop_nodes[0]], final_model.fc2.weight.data[:, drop_nodes[0]+1:]], dim=1)\n",
        "\n",
        "    drop_nodes = [index - 1 for index in drop_nodes[1:]]\n",
        "\n",
        "    final_model.fc1.weight.data = torch.cat([final_model.fc1.weight.data[:drop_nodes[0]], final_model.fc1.weight.data[drop_nodes[0]+1:]])\n",
        "    final_model.fc1.bias.data = torch.cat([final_model.fc1.bias.data[:drop_nodes[0]], final_model.fc1.bias.data[drop_nodes[0]+1:]])\n",
        "    final_model.fc2.weight.data = torch.cat([final_model.fc2.weight.data[:, :drop_nodes[0]], final_model.fc2.weight.data[:, drop_nodes[0]+1:]], dim=1)\n",
        "\n",
        "    drop_nodes = [index - 1 for index in drop_nodes[1:]]\n",
        "\n",
        "    final_model.fc1.weight.data = torch.cat([final_model.fc1.weight.data[:drop_nodes[0]], final_model.fc1.weight.data[drop_nodes[0]+1:]])\n",
        "    final_model.fc1.bias.data = torch.cat([final_model.fc1.bias.data[:drop_nodes[0]], final_model.fc1.bias.data[drop_nodes[0]+1:]])\n",
        "    final_model.fc2.weight.data = torch.cat([final_model.fc2.weight.data[:, :drop_nodes[0]], final_model.fc2.weight.data[:, drop_nodes[0]+1:]], dim=1)\n",
        "\n",
        "print(\"An acceptable 2LNN\")\n",
        "\n",
        "# Print the number of remaining hidden nodes\n",
        "remaining_nodes = final_model.fc1.weight.shape[0]\n",
        "print(f\"Number of remaining hidden nodes: {remaining_nodes}\")\n",
        "\n",
        "# Save the final pruned model mask\n",
        "torch.save(final_model.state_dict(), \"pruned_model_mask.pth\")\n",
        "print(f\"Final pruned model parameters saved to pruned_model_mask.pth\")"
      ],
      "metadata": {
        "colab": {
          "base_uri": "https://localhost:8080/"
        },
        "id": "CdN9zuKJya9F",
        "outputId": "4101c800-4af2-409f-b143-693772bacdd1"
      },
      "execution_count": 44,
      "outputs": [
        {
          "output_type": "stream",
          "name": "stdout",
          "text": [
            "An acceptable 2LNN\n",
            "Number of remaining hidden nodes: 5\n",
            "Final pruned model parameters saved to pruned_model_mask.pth\n"
          ]
        }
      ]
    },
    {
      "cell_type": "code",
      "source": [
        "# Set the model to evaluation mode\n",
        "final_model.eval()\n",
        "\n",
        "# Evaluate the performance on the test set\n",
        "with torch.no_grad():\n",
        "    outputs = final_model(X_test_tensor).squeeze()  # Remove the extra dimension\n",
        "    predicted = (outputs >= 0.5).float()  # Applying threshold of 0.5 for binary classification\n",
        "    accuracy = (predicted == y_test_tensor).sum().item() / len(y_test_tensor)\n",
        "    print(f'Test Accuracy: {accuracy}')"
      ],
      "metadata": {
        "colab": {
          "base_uri": "https://localhost:8080/",
          "height": 382
        },
        "id": "zOu2Mxo6tpQw",
        "outputId": "1c5a8ec5-1b5e-4932-ec1c-cacb90599de6"
      },
      "execution_count": 48,
      "outputs": [
        {
          "output_type": "error",
          "ename": "RuntimeError",
          "evalue": "running_mean should contain 5 elements not 8",
          "traceback": [
            "\u001b[0;31m---------------------------------------------------------------------------\u001b[0m",
            "\u001b[0;31mRuntimeError\u001b[0m                              Traceback (most recent call last)",
            "\u001b[0;32m<ipython-input-48-424ed2ba496d>\u001b[0m in \u001b[0;36m<cell line: 5>\u001b[0;34m()\u001b[0m\n\u001b[1;32m     11\u001b[0m \u001b[0;34m\u001b[0m\u001b[0m\n\u001b[1;32m     12\u001b[0m         \u001b[0;31m# Forward pass\u001b[0m\u001b[0;34m\u001b[0m\u001b[0;34m\u001b[0m\u001b[0m\n\u001b[0;32m---> 13\u001b[0;31m         \u001b[0moutputs\u001b[0m \u001b[0;34m=\u001b[0m \u001b[0mfinal_model\u001b[0m\u001b[0;34m(\u001b[0m\u001b[0minputs\u001b[0m\u001b[0;34m)\u001b[0m\u001b[0;34m\u001b[0m\u001b[0;34m\u001b[0m\u001b[0m\n\u001b[0m\u001b[1;32m     14\u001b[0m \u001b[0;34m\u001b[0m\u001b[0m\n\u001b[1;32m     15\u001b[0m         \u001b[0;31m# Applying threshold of 0.5 for binary classification\u001b[0m\u001b[0;34m\u001b[0m\u001b[0;34m\u001b[0m\u001b[0m\n",
            "\u001b[0;32m/usr/local/lib/python3.10/dist-packages/torch/nn/modules/module.py\u001b[0m in \u001b[0;36m_wrapped_call_impl\u001b[0;34m(self, *args, **kwargs)\u001b[0m\n\u001b[1;32m   1530\u001b[0m             \u001b[0;32mreturn\u001b[0m \u001b[0mself\u001b[0m\u001b[0;34m.\u001b[0m\u001b[0m_compiled_call_impl\u001b[0m\u001b[0;34m(\u001b[0m\u001b[0;34m*\u001b[0m\u001b[0margs\u001b[0m\u001b[0;34m,\u001b[0m \u001b[0;34m**\u001b[0m\u001b[0mkwargs\u001b[0m\u001b[0;34m)\u001b[0m  \u001b[0;31m# type: ignore[misc]\u001b[0m\u001b[0;34m\u001b[0m\u001b[0;34m\u001b[0m\u001b[0m\n\u001b[1;32m   1531\u001b[0m         \u001b[0;32melse\u001b[0m\u001b[0;34m:\u001b[0m\u001b[0;34m\u001b[0m\u001b[0;34m\u001b[0m\u001b[0m\n\u001b[0;32m-> 1532\u001b[0;31m             \u001b[0;32mreturn\u001b[0m \u001b[0mself\u001b[0m\u001b[0;34m.\u001b[0m\u001b[0m_call_impl\u001b[0m\u001b[0;34m(\u001b[0m\u001b[0;34m*\u001b[0m\u001b[0margs\u001b[0m\u001b[0;34m,\u001b[0m \u001b[0;34m**\u001b[0m\u001b[0mkwargs\u001b[0m\u001b[0;34m)\u001b[0m\u001b[0;34m\u001b[0m\u001b[0;34m\u001b[0m\u001b[0m\n\u001b[0m\u001b[1;32m   1533\u001b[0m \u001b[0;34m\u001b[0m\u001b[0m\n\u001b[1;32m   1534\u001b[0m     \u001b[0;32mdef\u001b[0m \u001b[0m_call_impl\u001b[0m\u001b[0;34m(\u001b[0m\u001b[0mself\u001b[0m\u001b[0;34m,\u001b[0m \u001b[0;34m*\u001b[0m\u001b[0margs\u001b[0m\u001b[0;34m,\u001b[0m \u001b[0;34m**\u001b[0m\u001b[0mkwargs\u001b[0m\u001b[0;34m)\u001b[0m\u001b[0;34m:\u001b[0m\u001b[0;34m\u001b[0m\u001b[0;34m\u001b[0m\u001b[0m\n",
            "\u001b[0;32m/usr/local/lib/python3.10/dist-packages/torch/nn/modules/module.py\u001b[0m in \u001b[0;36m_call_impl\u001b[0;34m(self, *args, **kwargs)\u001b[0m\n\u001b[1;32m   1539\u001b[0m                 \u001b[0;32mor\u001b[0m \u001b[0m_global_backward_pre_hooks\u001b[0m \u001b[0;32mor\u001b[0m \u001b[0m_global_backward_hooks\u001b[0m\u001b[0;34m\u001b[0m\u001b[0;34m\u001b[0m\u001b[0m\n\u001b[1;32m   1540\u001b[0m                 or _global_forward_hooks or _global_forward_pre_hooks):\n\u001b[0;32m-> 1541\u001b[0;31m             \u001b[0;32mreturn\u001b[0m \u001b[0mforward_call\u001b[0m\u001b[0;34m(\u001b[0m\u001b[0;34m*\u001b[0m\u001b[0margs\u001b[0m\u001b[0;34m,\u001b[0m \u001b[0;34m**\u001b[0m\u001b[0mkwargs\u001b[0m\u001b[0;34m)\u001b[0m\u001b[0;34m\u001b[0m\u001b[0;34m\u001b[0m\u001b[0m\n\u001b[0m\u001b[1;32m   1542\u001b[0m \u001b[0;34m\u001b[0m\u001b[0m\n\u001b[1;32m   1543\u001b[0m         \u001b[0;32mtry\u001b[0m\u001b[0;34m:\u001b[0m\u001b[0;34m\u001b[0m\u001b[0;34m\u001b[0m\u001b[0m\n",
            "\u001b[0;32m<ipython-input-37-a1b3748ffe71>\u001b[0m in \u001b[0;36mforward\u001b[0;34m(self, x)\u001b[0m\n\u001b[1;32m     22\u001b[0m     \u001b[0;32mdef\u001b[0m \u001b[0mforward\u001b[0m\u001b[0;34m(\u001b[0m\u001b[0mself\u001b[0m\u001b[0;34m,\u001b[0m \u001b[0mx\u001b[0m\u001b[0;34m)\u001b[0m\u001b[0;34m:\u001b[0m\u001b[0;34m\u001b[0m\u001b[0;34m\u001b[0m\u001b[0m\n\u001b[1;32m     23\u001b[0m         \u001b[0mx\u001b[0m \u001b[0;34m=\u001b[0m \u001b[0mself\u001b[0m\u001b[0;34m.\u001b[0m\u001b[0mfc1\u001b[0m\u001b[0;34m(\u001b[0m\u001b[0mx\u001b[0m\u001b[0;34m)\u001b[0m\u001b[0;34m\u001b[0m\u001b[0;34m\u001b[0m\u001b[0m\n\u001b[0;32m---> 24\u001b[0;31m         \u001b[0mx\u001b[0m \u001b[0;34m=\u001b[0m \u001b[0mself\u001b[0m\u001b[0;34m.\u001b[0m\u001b[0mbn\u001b[0m\u001b[0;34m(\u001b[0m\u001b[0mx\u001b[0m\u001b[0;34m)\u001b[0m  \u001b[0;31m# Applying batch normalization\u001b[0m\u001b[0;34m\u001b[0m\u001b[0;34m\u001b[0m\u001b[0m\n\u001b[0m\u001b[1;32m     25\u001b[0m         \u001b[0mx\u001b[0m \u001b[0;34m=\u001b[0m \u001b[0mF\u001b[0m\u001b[0;34m.\u001b[0m\u001b[0mrelu\u001b[0m\u001b[0;34m(\u001b[0m\u001b[0mx\u001b[0m\u001b[0;34m)\u001b[0m  \u001b[0;31m# Using ReLU activation function\u001b[0m\u001b[0;34m\u001b[0m\u001b[0;34m\u001b[0m\u001b[0m\n\u001b[1;32m     26\u001b[0m         \u001b[0mx\u001b[0m \u001b[0;34m=\u001b[0m \u001b[0mself\u001b[0m\u001b[0;34m.\u001b[0m\u001b[0mfc2\u001b[0m\u001b[0;34m(\u001b[0m\u001b[0mx\u001b[0m\u001b[0;34m)\u001b[0m\u001b[0;34m\u001b[0m\u001b[0;34m\u001b[0m\u001b[0m\n",
            "\u001b[0;32m/usr/local/lib/python3.10/dist-packages/torch/nn/modules/module.py\u001b[0m in \u001b[0;36m_wrapped_call_impl\u001b[0;34m(self, *args, **kwargs)\u001b[0m\n\u001b[1;32m   1530\u001b[0m             \u001b[0;32mreturn\u001b[0m \u001b[0mself\u001b[0m\u001b[0;34m.\u001b[0m\u001b[0m_compiled_call_impl\u001b[0m\u001b[0;34m(\u001b[0m\u001b[0;34m*\u001b[0m\u001b[0margs\u001b[0m\u001b[0;34m,\u001b[0m \u001b[0;34m**\u001b[0m\u001b[0mkwargs\u001b[0m\u001b[0;34m)\u001b[0m  \u001b[0;31m# type: ignore[misc]\u001b[0m\u001b[0;34m\u001b[0m\u001b[0;34m\u001b[0m\u001b[0m\n\u001b[1;32m   1531\u001b[0m         \u001b[0;32melse\u001b[0m\u001b[0;34m:\u001b[0m\u001b[0;34m\u001b[0m\u001b[0;34m\u001b[0m\u001b[0m\n\u001b[0;32m-> 1532\u001b[0;31m             \u001b[0;32mreturn\u001b[0m \u001b[0mself\u001b[0m\u001b[0;34m.\u001b[0m\u001b[0m_call_impl\u001b[0m\u001b[0;34m(\u001b[0m\u001b[0;34m*\u001b[0m\u001b[0margs\u001b[0m\u001b[0;34m,\u001b[0m \u001b[0;34m**\u001b[0m\u001b[0mkwargs\u001b[0m\u001b[0;34m)\u001b[0m\u001b[0;34m\u001b[0m\u001b[0;34m\u001b[0m\u001b[0m\n\u001b[0m\u001b[1;32m   1533\u001b[0m \u001b[0;34m\u001b[0m\u001b[0m\n\u001b[1;32m   1534\u001b[0m     \u001b[0;32mdef\u001b[0m \u001b[0m_call_impl\u001b[0m\u001b[0;34m(\u001b[0m\u001b[0mself\u001b[0m\u001b[0;34m,\u001b[0m \u001b[0;34m*\u001b[0m\u001b[0margs\u001b[0m\u001b[0;34m,\u001b[0m \u001b[0;34m**\u001b[0m\u001b[0mkwargs\u001b[0m\u001b[0;34m)\u001b[0m\u001b[0;34m:\u001b[0m\u001b[0;34m\u001b[0m\u001b[0;34m\u001b[0m\u001b[0m\n",
            "\u001b[0;32m/usr/local/lib/python3.10/dist-packages/torch/nn/modules/module.py\u001b[0m in \u001b[0;36m_call_impl\u001b[0;34m(self, *args, **kwargs)\u001b[0m\n\u001b[1;32m   1539\u001b[0m                 \u001b[0;32mor\u001b[0m \u001b[0m_global_backward_pre_hooks\u001b[0m \u001b[0;32mor\u001b[0m \u001b[0m_global_backward_hooks\u001b[0m\u001b[0;34m\u001b[0m\u001b[0;34m\u001b[0m\u001b[0m\n\u001b[1;32m   1540\u001b[0m                 or _global_forward_hooks or _global_forward_pre_hooks):\n\u001b[0;32m-> 1541\u001b[0;31m             \u001b[0;32mreturn\u001b[0m \u001b[0mforward_call\u001b[0m\u001b[0;34m(\u001b[0m\u001b[0;34m*\u001b[0m\u001b[0margs\u001b[0m\u001b[0;34m,\u001b[0m \u001b[0;34m**\u001b[0m\u001b[0mkwargs\u001b[0m\u001b[0;34m)\u001b[0m\u001b[0;34m\u001b[0m\u001b[0;34m\u001b[0m\u001b[0m\n\u001b[0m\u001b[1;32m   1542\u001b[0m \u001b[0;34m\u001b[0m\u001b[0m\n\u001b[1;32m   1543\u001b[0m         \u001b[0;32mtry\u001b[0m\u001b[0;34m:\u001b[0m\u001b[0;34m\u001b[0m\u001b[0;34m\u001b[0m\u001b[0m\n",
            "\u001b[0;32m/usr/local/lib/python3.10/dist-packages/torch/nn/modules/batchnorm.py\u001b[0m in \u001b[0;36mforward\u001b[0;34m(self, input)\u001b[0m\n\u001b[1;32m    173\u001b[0m         \u001b[0mused\u001b[0m \u001b[0;32mfor\u001b[0m \u001b[0mnormalization\u001b[0m \u001b[0;34m(\u001b[0m\u001b[0mi\u001b[0m\u001b[0;34m.\u001b[0m\u001b[0me\u001b[0m\u001b[0;34m.\u001b[0m \u001b[0;32min\u001b[0m \u001b[0meval\u001b[0m \u001b[0mmode\u001b[0m \u001b[0mwhen\u001b[0m \u001b[0mbuffers\u001b[0m \u001b[0mare\u001b[0m \u001b[0;32mnot\u001b[0m \u001b[0;32mNone\u001b[0m\u001b[0;34m)\u001b[0m\u001b[0;34m.\u001b[0m\u001b[0;34m\u001b[0m\u001b[0;34m\u001b[0m\u001b[0m\n\u001b[1;32m    174\u001b[0m         \"\"\"\n\u001b[0;32m--> 175\u001b[0;31m         return F.batch_norm(\n\u001b[0m\u001b[1;32m    176\u001b[0m             \u001b[0minput\u001b[0m\u001b[0;34m,\u001b[0m\u001b[0;34m\u001b[0m\u001b[0;34m\u001b[0m\u001b[0m\n\u001b[1;32m    177\u001b[0m             \u001b[0;31m# If buffers are not to be tracked, ensure that they won't be updated\u001b[0m\u001b[0;34m\u001b[0m\u001b[0;34m\u001b[0m\u001b[0m\n",
            "\u001b[0;32m/usr/local/lib/python3.10/dist-packages/torch/nn/functional.py\u001b[0m in \u001b[0;36mbatch_norm\u001b[0;34m(input, running_mean, running_var, weight, bias, training, momentum, eps)\u001b[0m\n\u001b[1;32m   2507\u001b[0m         \u001b[0m_verify_batch_size\u001b[0m\u001b[0;34m(\u001b[0m\u001b[0minput\u001b[0m\u001b[0;34m.\u001b[0m\u001b[0msize\u001b[0m\u001b[0;34m(\u001b[0m\u001b[0;34m)\u001b[0m\u001b[0;34m)\u001b[0m\u001b[0;34m\u001b[0m\u001b[0;34m\u001b[0m\u001b[0m\n\u001b[1;32m   2508\u001b[0m \u001b[0;34m\u001b[0m\u001b[0m\n\u001b[0;32m-> 2509\u001b[0;31m     return torch.batch_norm(\n\u001b[0m\u001b[1;32m   2510\u001b[0m         \u001b[0minput\u001b[0m\u001b[0;34m,\u001b[0m \u001b[0mweight\u001b[0m\u001b[0;34m,\u001b[0m \u001b[0mbias\u001b[0m\u001b[0;34m,\u001b[0m \u001b[0mrunning_mean\u001b[0m\u001b[0;34m,\u001b[0m \u001b[0mrunning_var\u001b[0m\u001b[0;34m,\u001b[0m \u001b[0mtraining\u001b[0m\u001b[0;34m,\u001b[0m \u001b[0mmomentum\u001b[0m\u001b[0;34m,\u001b[0m \u001b[0meps\u001b[0m\u001b[0;34m,\u001b[0m \u001b[0mtorch\u001b[0m\u001b[0;34m.\u001b[0m\u001b[0mbackends\u001b[0m\u001b[0;34m.\u001b[0m\u001b[0mcudnn\u001b[0m\u001b[0;34m.\u001b[0m\u001b[0menabled\u001b[0m\u001b[0;34m\u001b[0m\u001b[0;34m\u001b[0m\u001b[0m\n\u001b[1;32m   2511\u001b[0m     )\n",
            "\u001b[0;31mRuntimeError\u001b[0m: running_mean should contain 5 elements not 8"
          ]
        }
      ]
    },
    {
      "cell_type": "code",
      "source": [
        "from sklearn.metrics import confusion_matrix, roc_curve, auc\n",
        "import matplotlib.pyplot as plt\n",
        "\n",
        "# Confusion Matrix\n",
        "cm = confusion_matrix(y_test_tensor.numpy(), predicted.numpy())\n",
        "plt.figure(figsize=(8, 6))\n",
        "plt.imshow(cm, interpolation='nearest', cmap=plt.cm.Blues)\n",
        "plt.title('Confusion Matrix')\n",
        "plt.colorbar()\n",
        "plt.xlabel('Predicted')\n",
        "plt.ylabel('Actual')\n",
        "tick_marks = np.arange(2)\n",
        "plt.xticks(tick_marks, ['0', '1'])\n",
        "plt.yticks(tick_marks, ['0', '1'])\n",
        "for i in range(2):\n",
        "    for j in range(2):\n",
        "        plt.text(j, i, cm[i, j],\n",
        "                 horizontalalignment=\"center\",\n",
        "                 color=\"white\" if cm[i, j] > cm.max() / 2 else \"black\")\n",
        "plt.show()\n",
        "\n",
        "# ROC Curve\n",
        "fpr, tpr, thresholds = roc_curve(y_test_tensor.numpy(), outputs.numpy())\n",
        "roc_auc = auc(fpr, tpr)\n",
        "plt.figure()\n",
        "plt.plot(fpr, tpr, color='darkorange', lw=2, label='ROC curve (area = %0.2f)' % roc_auc)\n",
        "plt.plot([0, 1], [0, 1], color='navy', lw=2, linestyle='--')\n",
        "plt.xlim([0.0, 1.0])\n",
        "plt.ylim([0.0, 1.05])\n",
        "plt.xlabel('False Positive Rate')\n",
        "plt.ylabel('True Positive Rate')\n",
        "plt.title('Receiver Operating Characteristic')\n",
        "plt.legend(loc=\"lower right\")\n",
        "plt.show()"
      ],
      "metadata": {
        "colab": {
          "base_uri": "https://localhost:8080/",
          "height": 1000
        },
        "id": "rojtulsyvVa4",
        "outputId": "718fd2db-63ae-4f89-e8a3-4c85faa73d2a"
      },
      "execution_count": 14,
      "outputs": [
        {
          "output_type": "display_data",
          "data": {
            "text/plain": [
              "<Figure size 800x600 with 2 Axes>"
            ],
            "image/png": "[encoded data removed]"
          },
          "metadata": {}
        },
        {
          "output_type": "display_data",
          "data": {
            "text/plain": [
              "<Figure size 640x480 with 1 Axes>"
            ],
            "image/png": "[encoded data removed]"
          },
          "metadata": {}
        }
      ]
    }
  ]
}