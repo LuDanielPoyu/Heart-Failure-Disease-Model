{
  "nbformat": 4,
  "nbformat_minor": 0,
  "metadata": {
    "colab": {
      "provenance": []
    },
    "kernelspec": {
      "name": "python3",
      "display_name": "Python 3"
    },
    "language_info": {
      "name": "python"
    }
  },
  "cells": [
    {
      "cell_type": "code",
      "execution_count": 66,
      "metadata": {
        "id": "_AxYNjzA3pOa"
      },
      "outputs": [],
      "source": [
        "import pandas as pd\n",
        "from sklearn.model_selection import train_test_split\n",
        "from sklearn.preprocessing import LabelEncoder, StandardScaler\n",
        "import torch\n",
        "from torch.utils.data import DataLoader, TensorDataset\n",
        "import torch.nn as nn\n",
        "import torch.nn.init as init\n",
        "import torch.optim as optim\n",
        "import torch.nn.functional as F\n",
        "import numpy as np\n",
        "from torch.optim.lr_scheduler import ExponentialLR"
      ]
    },
    {
      "cell_type": "markdown",
      "source": [
        "##Data Preprocessing"
      ],
      "metadata": {
        "id": "VxMl5bHx4AKi"
      }
    },
    {
      "cell_type": "code",
      "source": [
        "# data = pd.read_csv(\"heart_failure_clinical_records_dataset.csv\")\n",
        "data = pd.read_csv(\"heart_failure_clinical_records_dataset.csv\")\n",
        "\n",
        "# Separate features and target variable\n",
        "X = data.drop(columns=[\"DEATH_EVENT\"])\n",
        "y = data[\"DEATH_EVENT\"]\n",
        "\n",
        "# Split the dataset into training and testing sets\n",
        "X_train, X_test, y_train, y_test = train_test_split(X, y, test_size=0.2, random_state=42)\n",
        "\n",
        "# Standardize features\n",
        "scaler = StandardScaler()\n",
        "X_train_scaled = scaler.fit_transform(X_train)\n",
        "X_test_scaled = scaler.transform(X_test)"
      ],
      "metadata": {
        "id": "BGHPHXAM3-VX"
      },
      "execution_count": 67,
      "outputs": []
    },
    {
      "cell_type": "markdown",
      "source": [
        "## Model 3: weight-tuning_EB_LG\n",
        "### Check if the error is less than the error_criterion (0.3), and then check if the epoch is >=50"
      ],
      "metadata": {
        "id": "poJQYISd4C-j"
      }
    },
    {
      "cell_type": "code",
      "source": [
        "X_train_tensor = torch.tensor(X_train_scaled, dtype=torch.float32)\n",
        "y_train_tensor = torch.tensor(y_train.values, dtype=torch.float32)\n",
        "X_test_tensor = torch.tensor(X_test_scaled, dtype=torch.float32)\n",
        "y_test_tensor = torch.tensor(y_test.values, dtype=torch.float32)\n",
        "\n",
        "# Create datasets and data loaders\n",
        "batch_size = 64\n",
        "train_dataset = TensorDataset(X_train_tensor, y_train_tensor)\n",
        "train_loader = DataLoader(train_dataset, batch_size=batch_size, shuffle=True)\n",
        "test_dataset = TensorDataset(X_test_tensor, y_test_tensor)\n",
        "test_loader = DataLoader(test_dataset, batch_size=batch_size, shuffle=False)\n",
        "\n",
        "# Define the neural network model with only one output node\n",
        "class NeuralNetwork(nn.Module):\n",
        "    def __init__(self, input_size, hidden_size):\n",
        "        super(NeuralNetwork, self).__init__()\n",
        "        self.fc1 = nn.Linear(input_size, hidden_size)\n",
        "        init.xavier_uniform_(self.fc1.weight)  # Xavier initialization for weights of fc1\n",
        "        self.bn = nn.BatchNorm1d(hidden_size)  # Batch normalization layer\n",
        "        self.fc2 = nn.Linear(hidden_size, 1)\n",
        "        init.xavier_uniform_(self.fc2.weight)\n",
        "\n",
        "    def forward(self, x):\n",
        "        x = self.fc1(x)\n",
        "        x = self.bn(x)\n",
        "        x = F.relu(x)  # Using ReLU activation function\n",
        "        x = self.fc2(x)\n",
        "        return x\n",
        "\n",
        "input_size = X_train_tensor.shape[1]\n",
        "hidden_size = 8\n",
        "model3 = NeuralNetwork(input_size, hidden_size)\n",
        "\n",
        "criterion = nn.BCEWithLogitsLoss()\n",
        "optimizer = optim.Adam(model3.parameters(), lr=0.01)\n",
        "scheduler = ExponentialLR(optimizer, gamma=0.95)\n",
        "\n",
        "# Define the error value criterion\n",
        "error_criterion = 0.5\n",
        "\n",
        "\n",
        "# Counters for acceptable and unacceptable cases\n",
        "acceptable_cases = 0\n",
        "unacceptable_cases = 0\n",
        "\n",
        "# Training process with epochs\n",
        "num_epochs = 50\n",
        "for epoch in range(num_epochs):\n",
        "    for inputs, labels in train_loader:\n",
        "        optimizer.zero_grad()\n",
        "        outputs = model3(inputs).squeeze()\n",
        "        loss = criterion(outputs, labels.float())\n",
        "        print(\"Original Loss:\", loss.item())\n",
        "\n",
        "        # Check if the loss is smaller than the error value criterion\n",
        "        if loss.item() < error_criterion:\n",
        "            print(\"An acceptable case\")\n",
        "            acceptable_cases +=1\n",
        "            break\n",
        "\n",
        "        loss.backward()\n",
        "        optimizer.step()\n",
        "        print(\"An unacceptable case\")\n",
        "        unacceptable_cases +=1\n",
        "\n",
        "    if epoch >= 50:\n",
        "        print(\"An unacceptable 2LNN\")\n",
        "        break\n",
        "\n",
        "\n",
        "# Output the counts of acceptable and unacceptable cases\n",
        "print(f\"Total acceptable cases: {acceptable_cases}\")\n",
        "print(f\"Total unacceptable cases: {unacceptable_cases}\")"
      ],
      "metadata": {
        "colab": {
          "base_uri": "https://localhost:8080/"
        },
        "id": "pjgTqu5Q4HQN",
        "outputId": "8e8adb66-e08f-461a-998c-d11215d6d981"
      },
      "execution_count": 68,
      "outputs": [
        {
          "output_type": "stream",
          "name": "stdout",
          "text": [
            "Original Loss: 0.6792861819267273\n",
            "An unacceptable case\n",
            "Original Loss: 0.6478989720344543\n",
            "An unacceptable case\n",
            "Original Loss: 0.600527286529541\n",
            "An unacceptable case\n",
            "Original Loss: 0.6197647452354431\n",
            "An unacceptable case\n",
            "Original Loss: 0.5916355848312378\n",
            "An unacceptable case\n",
            "Original Loss: 0.5920801758766174\n",
            "An unacceptable case\n",
            "Original Loss: 0.6028805375099182\n",
            "An unacceptable case\n",
            "Original Loss: 0.5300416946411133\n",
            "An unacceptable case\n",
            "Original Loss: 0.6177431344985962\n",
            "An unacceptable case\n",
            "Original Loss: 0.5162614583969116\n",
            "An unacceptable case\n",
            "Original Loss: 0.4821203052997589\n",
            "An acceptable case\n",
            "Original Loss: 0.5616051554679871\n",
            "An unacceptable case\n",
            "Original Loss: 0.4852052628993988\n",
            "An acceptable case\n",
            "Original Loss: 0.49942174553871155\n",
            "An acceptable case\n",
            "Original Loss: 0.5829817056655884\n",
            "An unacceptable case\n",
            "Original Loss: 0.49007827043533325\n",
            "An acceptable case\n",
            "Original Loss: 0.48346102237701416\n",
            "An acceptable case\n",
            "Original Loss: 0.5424502491950989\n",
            "An unacceptable case\n",
            "Original Loss: 0.4789260923862457\n",
            "An acceptable case\n",
            "Original Loss: 0.44626545906066895\n",
            "An acceptable case\n",
            "Original Loss: 0.555643618106842\n",
            "An unacceptable case\n",
            "Original Loss: 0.49727609753608704\n",
            "An acceptable case\n",
            "Original Loss: 0.5250328779220581\n",
            "An unacceptable case\n",
            "Original Loss: 0.5217262506484985\n",
            "An unacceptable case\n",
            "Original Loss: 0.4725184440612793\n",
            "An acceptable case\n",
            "Original Loss: 0.492868036031723\n",
            "An acceptable case\n",
            "Original Loss: 0.45300838351249695\n",
            "An acceptable case\n",
            "Original Loss: 0.48529309034347534\n",
            "An acceptable case\n",
            "Original Loss: 0.5307412147521973\n",
            "An unacceptable case\n",
            "Original Loss: 0.4783340096473694\n",
            "An acceptable case\n",
            "Original Loss: 0.4853765070438385\n",
            "An acceptable case\n",
            "Original Loss: 0.48314303159713745\n",
            "An acceptable case\n",
            "Original Loss: 0.4767414331436157\n",
            "An acceptable case\n",
            "Original Loss: 0.4840632677078247\n",
            "An acceptable case\n",
            "Original Loss: 0.4392753839492798\n",
            "An acceptable case\n",
            "Original Loss: 0.42980343103408813\n",
            "An acceptable case\n",
            "Original Loss: 0.49950504302978516\n",
            "An acceptable case\n",
            "Original Loss: 0.48919790983200073\n",
            "An acceptable case\n",
            "Original Loss: 0.4771365523338318\n",
            "An acceptable case\n",
            "Original Loss: 0.44526249170303345\n",
            "An acceptable case\n",
            "Original Loss: 0.45265093445777893\n",
            "An acceptable case\n",
            "Original Loss: 0.4489208459854126\n",
            "An acceptable case\n",
            "Original Loss: 0.43206268548965454\n",
            "An acceptable case\n",
            "Original Loss: 0.47717002034187317\n",
            "An acceptable case\n",
            "Original Loss: 0.47404301166534424\n",
            "An acceptable case\n",
            "Original Loss: 0.4966655373573303\n",
            "An acceptable case\n",
            "Original Loss: 0.48810476064682007\n",
            "An acceptable case\n",
            "Original Loss: 0.42204588651657104\n",
            "An acceptable case\n",
            "Original Loss: 0.47211939096450806\n",
            "An acceptable case\n",
            "Original Loss: 0.44618886709213257\n",
            "An acceptable case\n",
            "Original Loss: 0.48061510920524597\n",
            "An acceptable case\n",
            "Original Loss: 0.48521366715431213\n",
            "An acceptable case\n",
            "Original Loss: 0.48608681559562683\n",
            "An acceptable case\n",
            "Original Loss: 0.478128045797348\n",
            "An acceptable case\n",
            "Original Loss: 0.4929955005645752\n",
            "An acceptable case\n",
            "Original Loss: 0.4860838055610657\n",
            "An acceptable case\n",
            "Original Loss: 0.5084428787231445\n",
            "An unacceptable case\n",
            "Original Loss: 0.43398767709732056\n",
            "An acceptable case\n",
            "Original Loss: 0.46654194593429565\n",
            "An acceptable case\n",
            "Original Loss: 0.46986064314842224\n",
            "An acceptable case\n",
            "Original Loss: 0.4439852833747864\n",
            "An acceptable case\n",
            "Original Loss: 0.5019033551216125\n",
            "An unacceptable case\n",
            "Original Loss: 0.4289279282093048\n",
            "An acceptable case\n",
            "Original Loss: 0.4522034525871277\n",
            "An acceptable case\n",
            "Original Loss: 0.4521064758300781\n",
            "An acceptable case\n",
            "Original Loss: 0.4525679051876068\n",
            "An acceptable case\n",
            "Original Loss: 0.4801940321922302\n",
            "An acceptable case\n",
            "Total acceptable cases: 48\n",
            "Total unacceptable cases: 19\n"
          ]
        }
      ]
    },
    {
      "cell_type": "markdown",
      "source": [
        "## Test Model 3"
      ],
      "metadata": {
        "id": "P3dTEWcN4NIw"
      }
    },
    {
      "cell_type": "code",
      "source": [
        "# Test the model\n",
        "model3.eval()  # Set the model to evaluation mode\n",
        "with torch.no_grad():\n",
        "    outputs = model3(X_test_tensor).squeeze()  # Remove the extra dimension\n",
        "    predicted = (outputs >= 0.5).float()  # Applying threshold of 0.5 for binary classification\n",
        "    accuracy = (predicted == y_test_tensor).sum().item() / len(y_test_tensor)\n",
        "    print(f'Test Accuracy: {accuracy}')"
      ],
      "metadata": {
        "colab": {
          "base_uri": "https://localhost:8080/"
        },
        "id": "3kk63Lju4J4t",
        "outputId": "16666eb4-1489-4efc-d677-e793304756c7"
      },
      "execution_count": 69,
      "outputs": [
        {
          "output_type": "stream",
          "name": "stdout",
          "text": [
            "Test Accuracy: 0.6\n"
          ]
        }
      ]
    },
    {
      "cell_type": "markdown",
      "source": [
        "## save model"
      ],
      "metadata": {
        "id": "YMjm4j6W7ESh"
      }
    },
    {
      "cell_type": "code",
      "source": [
        "model_path = \"accepable_model_EB_LG.pth\"\n",
        "\n",
        "# Save the final model's parameters\n",
        "torch.save(model3.state_dict(), model_path)\n",
        "print(f\"Model parameters saved to {model_path}\")\n",
        "\n",
        "# Load the saved model parameters to continue training\n",
        "model = NeuralNetwork(input_size, hidden_size)\n",
        "model.load_state_dict(torch.load(model_path))\n",
        "print(\"Model parameters loaded from\", model_path)"
      ],
      "metadata": {
        "colab": {
          "base_uri": "https://localhost:8080/"
        },
        "id": "PPedJOaA7D12",
        "outputId": "d7a527d3-3868-40b2-8568-4988b2428fb4"
      },
      "execution_count": 70,
      "outputs": [
        {
          "output_type": "stream",
          "name": "stdout",
          "text": [
            "Model parameters saved to accepable_model_EB_LG.pth\n",
            "Model parameters loaded from accepable_model_EB_LG.pth\n"
          ]
        }
      ]
    },
    {
      "cell_type": "markdown",
      "source": [
        "## Cramming_Ri_LG1_SO_MU"
      ],
      "metadata": {
        "id": "iyX8v-uY9P96"
      }
    },
    {
      "cell_type": "markdown",
      "source": [
        "#### the correct code"
      ],
      "metadata": {
        "id": "s5MP7CVQL3mL"
      }
    },
    {
      "cell_type": "code",
      "source": [
        "# Define the extended neural network class\n",
        "class ExtendedNeuralNetwork(nn.Module):\n",
        "    def __init__(self, input_size, hidden_size):\n",
        "        super(ExtendedNeuralNetwork, self).__init__()\n",
        "        self.fc1 = nn.Linear(input_size, hidden_size)\n",
        "        nn.init.xavier_uniform_(self.fc1.weight)\n",
        "        self.bn = nn.BatchNorm1d(hidden_size)\n",
        "        self.fc2 = nn.Linear(hidden_size, 1)\n",
        "        nn.init.xavier_uniform_(self.fc2.weight)\n",
        "\n",
        "    def forward(self, x):\n",
        "        x = self.fc1(x)\n",
        "        x = self.bn(x)\n",
        "        x = F.relu(x)\n",
        "        x = self.fc2(x)\n",
        "        return x\n",
        "\n",
        "# Training and handling unacceptable cases\n",
        "num_unacceptable_cases = 19\n",
        "extra_hidden_size = 3\n",
        "\n",
        "# Iterate through the unacceptable cases\n",
        "for unacceptable_case in range(num_unacceptable_cases):\n",
        "    # Create an extended model with additional hidden nodes\n",
        "    hidden_size += extra_hidden_size\n",
        "    extended_model = ExtendedNeuralNetwork(input_size, hidden_size)\n",
        "\n",
        "    # Copy the parameters from the base model to the extended model\n",
        "    with torch.no_grad():\n",
        "        extended_model.fc1.weight[:hidden_size-extra_hidden_size, :] = model.fc1.weight\n",
        "        extended_model.fc1.bias[:hidden_size-extra_hidden_size] = model.fc1.bias\n",
        "        extended_model.fc2.weight[:, :hidden_size-extra_hidden_size] = model.fc2.weight\n",
        "        extended_model.fc2.bias = model.fc2.bias\n",
        "\n",
        "    # Set up optimizer and loss function for the extended model\n",
        "    optimizer_extended = optim.Adam(extended_model.parameters(), lr=0.01)\n",
        "\n",
        "    # Retrain the extended model on the entire training data to generalize\n",
        "    num_retrain_epochs = 10\n",
        "    for epoch in range(num_retrain_epochs):\n",
        "        for inputs, labels in train_loader:\n",
        "            optimizer_extended.zero_grad()\n",
        "            output = extended_model(inputs).squeeze()\n",
        "            loss_extended = criterion(output, labels.float())\n",
        "            loss_extended.backward()\n",
        "            optimizer_extended.step()\n",
        "\n",
        "    # Save the extended model's parameters\n",
        "    extended_model_path = f\"extended_model_case_{unacceptable_case + 1}.pth\"\n",
        "    torch.save(extended_model.state_dict(), extended_model_path)\n",
        "    print(f\"Extended model parameters saved to {extended_model_path}\")\n",
        "\n",
        "    # Reload the extended model for the next iteration\n",
        "    model = ExtendedNeuralNetwork(input_size, hidden_size)\n",
        "    model.load_state_dict(torch.load(extended_model_path))\n",
        "    print(f\"Extended model reloaded for the next iteration\")\n",
        "\n",
        "# Save the final extended model after all unacceptable cases\n",
        "final_extended_model_path = f\"final_extended_model.pth\"\n",
        "torch.save(extended_model.state_dict(), final_extended_model_path)\n",
        "print(f\"Final extended model parameters saved to {final_extended_model_path}\")"
      ],
      "metadata": {
        "colab": {
          "base_uri": "https://localhost:8080/"
        },
        "id": "4QTGQSEPJ6bN",
        "outputId": "86e769ce-2c24-42c8-fb2e-3f19256dfc6a"
      },
      "execution_count": 71,
      "outputs": [
        {
          "output_type": "stream",
          "name": "stdout",
          "text": [
            "Extended model parameters saved to extended_model_case_1.pth\n",
            "Extended model reloaded for the next iteration\n",
            "Extended model parameters saved to extended_model_case_2.pth\n",
            "Extended model reloaded for the next iteration\n",
            "Extended model parameters saved to extended_model_case_3.pth\n",
            "Extended model reloaded for the next iteration\n",
            "Extended model parameters saved to extended_model_case_4.pth\n",
            "Extended model reloaded for the next iteration\n",
            "Extended model parameters saved to extended_model_case_5.pth\n",
            "Extended model reloaded for the next iteration\n",
            "Extended model parameters saved to extended_model_case_6.pth\n",
            "Extended model reloaded for the next iteration\n",
            "Extended model parameters saved to extended_model_case_7.pth\n",
            "Extended model reloaded for the next iteration\n",
            "Extended model parameters saved to extended_model_case_8.pth\n",
            "Extended model reloaded for the next iteration\n",
            "Extended model parameters saved to extended_model_case_9.pth\n",
            "Extended model reloaded for the next iteration\n",
            "Extended model parameters saved to extended_model_case_10.pth\n",
            "Extended model reloaded for the next iteration\n",
            "Extended model parameters saved to extended_model_case_11.pth\n",
            "Extended model reloaded for the next iteration\n",
            "Extended model parameters saved to extended_model_case_12.pth\n",
            "Extended model reloaded for the next iteration\n",
            "Extended model parameters saved to extended_model_case_13.pth\n",
            "Extended model reloaded for the next iteration\n",
            "Extended model parameters saved to extended_model_case_14.pth\n",
            "Extended model reloaded for the next iteration\n",
            "Extended model parameters saved to extended_model_case_15.pth\n",
            "Extended model reloaded for the next iteration\n",
            "Extended model parameters saved to extended_model_case_16.pth\n",
            "Extended model reloaded for the next iteration\n",
            "Extended model parameters saved to extended_model_case_17.pth\n",
            "Extended model reloaded for the next iteration\n",
            "Extended model parameters saved to extended_model_case_18.pth\n",
            "Extended model reloaded for the next iteration\n",
            "Extended model parameters saved to extended_model_case_19.pth\n",
            "Extended model reloaded for the next iteration\n",
            "Final extended model parameters saved to final_extended_model.pth\n"
          ]
        }
      ]
    },
    {
      "cell_type": "code",
      "source": [
        "import torch\n",
        "import torch.nn as nn\n",
        "import torch.nn.functional as F\n",
        "from torch.utils.data import DataLoader, TensorDataset\n",
        "import numpy as np\n",
        "import matplotlib.pyplot as plt\n",
        "from sklearn.metrics import confusion_matrix, roc_curve, auc\n",
        "import seaborn as sns\n",
        "\n",
        "# Define the ExtendedNeuralNetwork class\n",
        "class ExtendedNeuralNetwork(nn.Module):\n",
        "    def __init__(self, input_size, hidden_size, extra_hidden_size=0):\n",
        "        super(ExtendedNeuralNetwork, self).__init__()\n",
        "        self.fc1 = nn.Linear(input_size, hidden_size + extra_hidden_size)\n",
        "        nn.init.xavier_uniform_(self.fc1.weight)\n",
        "        self.bn = nn.BatchNorm1d(hidden_size + extra_hidden_size)\n",
        "        self.fc2 = nn.Linear(hidden_size + extra_hidden_size, 1)\n",
        "        nn.init.xavier_uniform_(self.fc2.weight)\n",
        "\n",
        "    def forward(self, x):\n",
        "        x = self.fc1(x)\n",
        "        x = self.bn(x)\n",
        "        x = F.relu(x)\n",
        "        x = self.fc2(x)\n",
        "        return x\n",
        "\n",
        "# Path to the saved extended model\n",
        "extended_model_path = \"final_extended_model.pth\"\n",
        "\n",
        "# Number of unacceptable cases\n",
        "num_unacceptable_cases = 19\n",
        "\n",
        "# Calculate the final number of hidden nodes\n",
        "initial_hidden_size = 8\n",
        "extra_hidden_size = 3\n",
        "final_hidden_size = initial_hidden_size + (extra_hidden_size * num_unacceptable_cases)\n",
        "\n",
        "# Instantiate the extended model with the correct number of hidden nodes\n",
        "input_size = X_train_tensor.shape[1]\n",
        "extended_model = ExtendedNeuralNetwork(input_size, final_hidden_size - extra_hidden_size, extra_hidden_size)\n",
        "\n",
        "# Load the state dictionary\n",
        "extended_model.load_state_dict(torch.load(extended_model_path))\n",
        "print(f\"Extended model parameters loaded from {extended_model_path}\")\n",
        "\n",
        "# Set the model to evaluation mode\n",
        "extended_model.eval()\n",
        "\n",
        "# Define the test dataset and data loader\n",
        "test_dataset = TensorDataset(X_test_tensor, y_test_tensor)\n",
        "test_loader = DataLoader(test_dataset, batch_size=64, shuffle=False)\n",
        "\n",
        "# Function to calculate accuracy\n",
        "def calculate_accuracy(model, data_loader):\n",
        "    model.eval()  # Set the model to evaluation mode\n",
        "    correct = 0\n",
        "    total = 0\n",
        "    all_labels = []\n",
        "    all_predictions = []\n",
        "    all_probs = []\n",
        "\n",
        "    with torch.no_grad():  # Disable gradient calculation\n",
        "        for inputs, labels in data_loader:\n",
        "            outputs = model(inputs).squeeze()\n",
        "            probs = torch.sigmoid(outputs)\n",
        "            predictions = torch.round(probs)\n",
        "            total += labels.size(0)\n",
        "            correct += (predictions == labels).sum().item()\n",
        "            all_labels.extend(labels.numpy())\n",
        "            all_predictions.extend(predictions.numpy())\n",
        "            all_probs.extend(probs.numpy())\n",
        "\n",
        "    accuracy = correct / total\n",
        "    return accuracy, all_labels, all_predictions, all_probs\n",
        "\n",
        "# Calculate accuracy on the test set\n",
        "test_accuracy, all_labels, all_predictions, all_probs = calculate_accuracy(extended_model, test_loader)\n",
        "print(f\"Accuracy of the extended model on the test set: {test_accuracy * 100:.2f}%\")\n"
      ],
      "metadata": {
        "colab": {
          "base_uri": "https://localhost:8080/"
        },
        "id": "PLsmcIxU-VsO",
        "outputId": "391aa400-6f49-4199-fae7-f2ea341a539a"
      },
      "execution_count": 72,
      "outputs": [
        {
          "output_type": "stream",
          "name": "stdout",
          "text": [
            "Extended model parameters loaded from final_extended_model.pth\n",
            "Accuracy of the extended model on the test set: 68.33%\n"
          ]
        }
      ]
    },
    {
      "cell_type": "code",
      "source": [
        "# Confusion Matrix\n",
        "cm = confusion_matrix(all_labels, all_predictions)\n",
        "plt.figure(figsize=(8, 6))\n",
        "sns.heatmap(cm, annot=True, fmt=\"d\", cmap=\"Blues\", xticklabels=[0, 1], yticklabels=[0, 1])\n",
        "plt.xlabel(\"Predicted\")\n",
        "plt.ylabel(\"True\")\n",
        "plt.title(\"Confusion Matrix\")\n",
        "plt.show()\n",
        "\n",
        "# ROC Curve\n",
        "fpr, tpr, thresholds = roc_curve(all_labels, all_probs)\n",
        "roc_auc = auc(fpr, tpr)\n",
        "plt.figure(figsize=(8, 6))\n",
        "plt.plot(fpr, tpr, color='darkorange', lw=2, label=f'ROC curve (area = {roc_auc:.2f})')\n",
        "plt.plot([0, 1], [0, 1], color='navy', lw=2, linestyle='--')\n",
        "plt.xlim([0.0, 1.0])\n",
        "plt.ylim([0.0, 1.05])\n",
        "plt.xlabel('False Positive Rate')\n",
        "plt.ylabel('True Positive Rate')\n",
        "plt.title('Receiver Operating Characteristic (ROC) Curve')\n",
        "plt.legend(loc=\"lower right\")\n",
        "plt.show()\n"
      ],
      "metadata": {
        "id": "lc1dGB0mMZp3",
        "outputId": "63456d12-ba75-49b4-8c0f-4eae226c6df1",
        "colab": {
          "base_uri": "https://localhost:8080/",
          "height": 1000
        }
      },
      "execution_count": 73,
      "outputs": [
        {
          "output_type": "display_data",
          "data": {
            "text/plain": [
              "<Figure size 800x600 with 2 Axes>"
            ],
            "image/png": "[encoded data removed]"
          },
          "metadata": {}
        },
        {
          "output_type": "display_data",
          "data": {
            "text/plain": [
              "<Figure size 800x600 with 1 Axes>"
            ],
            "image/png": "[encoded data removed]"
          },
          "metadata": {}
        }
      ]
    },
    {
      "cell_type": "markdown",
      "source": [
        "#### the wrong code, but better result"
      ],
      "metadata": {
        "id": "n1Ej1XEULz1i"
      }
    },
    {
      "cell_type": "code",
      "source": [
        "import torch\n",
        "import torch.nn as nn\n",
        "import torch.nn.functional as F\n",
        "from torch.utils.data import DataLoader, TensorDataset\n",
        "import numpy as np\n",
        "import matplotlib.pyplot as plt\n",
        "from sklearn.metrics import confusion_matrix, roc_curve, auc\n",
        "import seaborn as sns\n",
        "\n",
        "# Define the ExtendedNeuralNetwork class (same as before)\n",
        "class ExtendedNeuralNetwork(nn.Module):\n",
        "    def __init__(self, input_size, hidden_size, extra_hidden_size=3):\n",
        "        super(ExtendedNeuralNetwork, self).__init__()\n",
        "        self.fc1 = nn.Linear(input_size, hidden_size + extra_hidden_size)\n",
        "        nn.init.xavier_uniform_(self.fc1.weight)\n",
        "        self.bn = nn.BatchNorm1d(hidden_size + extra_hidden_size)\n",
        "        self.fc2 = nn.Linear(hidden_size + extra_hidden_size, 1)\n",
        "        nn.init.xavier_uniform_(self.fc2.weight)\n",
        "\n",
        "    def forward(self, x):\n",
        "        x = self.fc1(x)\n",
        "        x = self.bn(x)\n",
        "        x = F.relu(x)\n",
        "        x = self.fc2(x)\n",
        "        return x\n",
        "\n",
        "# Path to the saved extended model\n",
        "extended_model_path = \"extended_model_case_24.pth\"\n",
        "\n",
        "# Instantiate the extended model\n",
        "input_size = X_train_tensor.shape[1]\n",
        "hidden_size = 8\n",
        "extended_model = ExtendedNeuralNetwork(input_size, hidden_size)\n",
        "\n",
        "# Load the state dictionary\n",
        "extended_model.load_state_dict(torch.load(extended_model_path))\n",
        "print(f\"Extended model parameters loaded from {extended_model_path}\")\n",
        "\n",
        "# Set the model to evaluation mode\n",
        "extended_model.eval()\n",
        "\n",
        "# Define the test dataset and data loader\n",
        "test_dataset = TensorDataset(X_test_tensor, y_test_tensor)\n",
        "test_loader = DataLoader(test_dataset, batch_size=batch_size, shuffle=False)\n",
        "\n",
        "# Collect predictions and true labels\n",
        "all_labels = []\n",
        "all_predictions = []\n",
        "all_probs = []\n",
        "\n",
        "with torch.no_grad():\n",
        "    for inputs, labels in test_loader:\n",
        "        outputs = extended_model(inputs).squeeze()\n",
        "        probs = torch.sigmoid(outputs)\n",
        "        predictions = torch.round(probs)\n",
        "        all_labels.extend(labels.numpy())\n",
        "        all_predictions.extend(predictions.numpy())\n",
        "        all_probs.extend(probs.numpy())\n",
        "\n",
        "# Calculate accuracy\n",
        "all_labels = np.array(all_labels)\n",
        "all_predictions = np.array(all_predictions)\n",
        "accuracy = (all_predictions == all_labels).mean()\n",
        "print(f\"Accuracy of the extended model on the test set: {accuracy * 100:.2f}%\")\n",
        "\n",
        "# Confusion Matrix\n",
        "cm = confusion_matrix(all_labels, all_predictions)\n",
        "plt.figure(figsize=(8, 6))\n",
        "sns.heatmap(cm, annot=True, fmt=\"d\", cmap=\"Blues\", xticklabels=[0, 1], yticklabels=[0, 1])\n",
        "plt.xlabel(\"Predicted\")\n",
        "plt.ylabel(\"True\")\n",
        "plt.title(\"Confusion Matrix\")\n",
        "plt.show()\n",
        "\n",
        "# ROC Curve\n",
        "fpr, tpr, thresholds = roc_curve(all_labels, all_probs)\n",
        "roc_auc = auc(fpr, tpr)\n",
        "plt.figure(figsize=(8, 6))\n",
        "plt.plot(fpr, tpr, color='darkorange', lw=2, label=f'ROC curve (area = {roc_auc:.2f})')\n",
        "plt.plot([0, 1], [0, 1], color='navy', lw=2, linestyle='--')\n",
        "plt.xlim([0.0, 1.0])\n",
        "plt.ylim([0.0, 1.05])\n",
        "plt.xlabel('False Positive Rate')\n",
        "plt.ylabel('True Positive Rate')\n",
        "plt.title('Receiver Operating Characteristic (ROC) Curve')\n",
        "plt.legend(loc=\"lower right\")\n",
        "plt.show()\n"
      ],
      "metadata": {
        "colab": {
          "base_uri": "https://localhost:8080/",
          "height": 1000
        },
        "id": "XkoRmqHvC3Vv",
        "outputId": "bf2eb8fd-1345-4ea3-8986-c5f737e17d1e"
      },
      "execution_count": 19,
      "outputs": [
        {
          "output_type": "stream",
          "name": "stdout",
          "text": [
            "Extended model parameters loaded from extended_model_case_24.pth\n",
            "Accuracy of the extended model on the test set: 73.33%\n"
          ]
        },
        {
          "output_type": "display_data",
          "data": {
            "text/plain": [
              "<Figure size 800x600 with 2 Axes>"
            ],
            "image/png": "[encoded data removed]"
          },
          "metadata": {}
        },
        {
          "output_type": "display_data",
          "data": {
            "text/plain": [
              "<Figure size 800x600 with 1 Axes>"
            ],
            "image/png": "[encoded data removed]"
          },
          "metadata": {}
        }
      ]
    }
  ]
}